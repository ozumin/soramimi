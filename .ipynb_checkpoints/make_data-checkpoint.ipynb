{
 "cells": [
  {
   "cell_type": "code",
   "execution_count": 99,
   "metadata": {},
   "outputs": [],
   "source": [
    "import urllib3\n",
    "from bs4 import BeautifulSoup\n",
    "import certifi\n",
    "import pandas as pd\n",
    "import pickle\n",
    "import requests\n",
    "import json\n",
    "import numpy as np\n",
    "import time\n",
    "import os\n",
    "from collections import Counter\n",
    "import subprocess"
   ]
  },
  {
   "cell_type": "code",
   "execution_count": 24,
   "metadata": {},
   "outputs": [
    {
     "data": {
      "text/plain": [
       "1"
      ]
     },
     "execution_count": 24,
     "metadata": {},
     "output_type": "execute_result"
    }
   ],
   "source": [
    "args = ['sudo', 'service', 'tor','restart']\n",
    "subprocess.call(args)"
   ]
  },
  {
   "cell_type": "code",
   "execution_count": 26,
   "metadata": {},
   "outputs": [
    {
     "name": "stdout",
     "output_type": "stream",
     "text": [
      "original IP:  b'133.9.8.123\\n'\n",
      "Tor IP:  b'107.155.49.126\\n'\n"
     ]
    }
   ],
   "source": [
    "import wget\n",
    "import requests\n",
    "from bs4 import BeautifulSoup\n",
    "\n",
    "# use Tor\n",
    "local_proxy = 'socks5://127.1:9050'\n",
    "socks_proxy = {\n",
    "    'http': local_proxy,\n",
    "    'https': local_proxy\n",
    "}\n",
    "current_ip = requests.get(\n",
    "    url='http://icanhazip.com/'\n",
    ")\n",
    "print('original IP: ', current_ip.content)\n",
    "current_ip = requests.get(\n",
    "    url='http://icanhazip.com/',\n",
    "    proxies=socks_proxy\n",
    ")\n",
    "print('Tor IP: ', current_ip.content)"
   ]
  },
  {
   "cell_type": "markdown",
   "metadata": {},
   "source": [
    "# data scrape"
   ]
  },
  {
   "cell_type": "code",
   "execution_count": 2,
   "metadata": {},
   "outputs": [],
   "source": [
    "years = range(1992, 2019)"
   ]
  },
  {
   "cell_type": "code",
   "execution_count": 3,
   "metadata": {},
   "outputs": [],
   "source": [
    "columns = ['japanese', 'english']"
   ]
  },
  {
   "cell_type": "code",
   "execution_count": 4,
   "metadata": {},
   "outputs": [],
   "source": [
    "data = pd.DataFrame(columns=columns)"
   ]
  },
  {
   "cell_type": "code",
   "execution_count": 5,
   "metadata": {},
   "outputs": [],
   "source": [
    "def getdata(year):\n",
    "    url = 'http://www7a.biglobe.ne.jp/~soramimiupdate/past/' + str(year) + 'main.htm'\n",
    "    http = urllib3.PoolManager(\n",
    "        cert_reqs='CERT_REQUIRED',\n",
    "        ca_certs=certifi.where())\n",
    "    r = http.request('GET', url)\n",
    "    soup = BeautifulSoup(r.data, 'html.parser')\n",
    "    return soup"
   ]
  },
  {
   "cell_type": "code",
   "execution_count": null,
   "metadata": {},
   "outputs": [],
   "source": [
    "for year in years:\n",
    "    soup = getdata(year)\n",
    "    table = 1\n",
    "    while table < 200:\n",
    "        if soup.select_one(\"#table\" + str(table) + \" > tr:nth-child(2) > td:nth-child(3)\")==None:\n",
    "            table = table + 1\n",
    "        else:\n",
    "            a = soup.select_one(\"#table\" + str(table) + \" > tr:nth-child(2) > td:nth-child(3)\").text\n",
    "            b = soup.select_one(\"#table\" + str(table) + \"> tr:nth-child(2) > td:nth-child(4)\").text\n",
    "            df2 = pd.DataFrame(data = [[a, b]], columns = columns)\n",
    "            data= data.append(df2, ignore_index = True)\n",
    "            table = table + 1"
   ]
  },
  {
   "cell_type": "code",
   "execution_count": 5,
   "metadata": {
    "scrolled": false
   },
   "outputs": [],
   "source": [
    "for i in range(data.shape[0]):\n",
    "    tmp = data['japanese'][i].replace('\\u3000', '')\n",
    "    tmp = tmp.replace(\"（☆）\", '')\n",
    "    tmp = tmp.replace(\"\\n\", '')\n",
    "    tmp = tmp.replace(\"\\t\", '')\n",
    "    data['japanese'][i] = tmp"
   ]
  },
  {
   "cell_type": "code",
   "execution_count": 6,
   "metadata": {},
   "outputs": [],
   "source": [
    "for i in range(data.shape[0]):\n",
    "    tmp = data['english'][i].replace(\"\\n\", '')\n",
    "    tmp = tmp.replace(\"\\t\", '')\n",
    "    data['english'][i] = tmp"
   ]
  },
  {
   "cell_type": "code",
   "execution_count": 8,
   "metadata": {},
   "outputs": [],
   "source": [
    "with open('data_refined.pickle', 'wb') as f:\n",
    "    pickle.dump(data, f)"
   ]
  },
  {
   "cell_type": "code",
   "execution_count": 9,
   "metadata": {},
   "outputs": [],
   "source": [
    "with open('data_refined.pickle', 'rb') as f:\n",
    "    data = pickle.load(f)"
   ]
  },
  {
   "cell_type": "code",
   "execution_count": 106,
   "metadata": {},
   "outputs": [],
   "source": [
    "data2 = data"
   ]
  },
  {
   "cell_type": "code",
   "execution_count": 16,
   "metadata": {},
   "outputs": [],
   "source": [
    "def kata_to_hira(strj):\n",
    "    return \"\".join([chr(ord(ch) - 96) if (\"ァ\" <= ch <= \"ヴ\") else ch for ch in strj])"
   ]
  },
  {
   "cell_type": "code",
   "execution_count": 17,
   "metadata": {},
   "outputs": [],
   "source": [
    "def kanji_to_hira(str):\n",
    "    url = 'https://hogehoge.tk/nihongo/'\n",
    "    http = urllib3.PoolManager(\n",
    "        cert_reqs='CERT_REQUIRED',\n",
    "        ca_certs=certifi.where())\n",
    "    headers = {\n",
    "        'sentence': str,\n",
    "    }\n",
    "    r = http.request('POST', url, headers)\n",
    "    soup = BeautifulSoup(r.data, 'html.parser')\n",
    "    hira = soup.select_one('body > div > div:nth-child(5) > div')\n",
    "    if(hira): hira = hira.text\n",
    "    return hira"
   ]
  },
  {
   "cell_type": "code",
   "execution_count": 110,
   "metadata": {},
   "outputs": [],
   "source": [
    "for i in range(len(data['japanese'])):\n",
    "    tmp = kanji_to_hira(data['japanese'][i])\n",
    "    if(tmp):\n",
    "        tmp = tmp.replace(' ', '')\n",
    "        tmp = tmp.replace(\"\\n\", '')\n",
    "        tmp = tmp.replace(\"\\r\", '')\n",
    "        tmp = tmp.replace(\"〜\", \"ー\")\n",
    "        tmp = tmp.replace(\"！\", '')\n",
    "        tmp = tmp.replace(\"？\", '')\n",
    "        tmp = tmp.replace(\"!\", '')\n",
    "        tmp = tmp.replace(\"?\", '')\n",
    "        tmp = tmp.replace(\"・\", '')\n",
    "        tmp = tmp.replace(\".\", '')\n",
    "        tmp = kata_to_hira(tmp)\n",
    "        data2['japanese'][i] = tmp"
   ]
  },
  {
   "cell_type": "code",
   "execution_count": 29,
   "metadata": {},
   "outputs": [],
   "source": [
    "data2.to_csv('data_preprocessed_by_hand_add_ipa.csv')"
   ]
  },
  {
   "cell_type": "markdown",
   "metadata": {},
   "source": [
    "# data load"
   ]
  },
  {
   "cell_type": "code",
   "execution_count": 9,
   "metadata": {},
   "outputs": [],
   "source": [
    "with open('data_refined.pickle', 'rb') as f:\n",
    "    data = pickle.load(f)"
   ]
  },
  {
   "cell_type": "code",
   "execution_count": 4,
   "metadata": {},
   "outputs": [],
   "source": [
    "data2 = pd.read_csv('data_preprocessed_by_hand_add_ipa.csv')"
   ]
  },
  {
   "cell_type": "code",
   "execution_count": 97,
   "metadata": {},
   "outputs": [],
   "source": [
    "with open('data_ipa_eng_tochu.pickle', 'rb') as f:\n",
    "    data_ipa = pickle.load(f)"
   ]
  },
  {
   "cell_type": "markdown",
   "metadata": {},
   "source": [
    "## IPA"
   ]
  },
  {
   "cell_type": "markdown",
   "metadata": {},
   "source": [
    "#### English"
   ]
  },
  {
   "cell_type": "code",
   "execution_count": 9,
   "metadata": {},
   "outputs": [],
   "source": [
    "def post_en_ipa(stre, socks_proxy):\n",
    "    #time.sleep(1)\n",
    "    r = requests.post(\"https://tophonetics.com/ja/\", {\"text_to_transcribe\":stre}, proxies=socks_proxy)\n",
    "    tmp = BeautifulSoup(r.text, 'html.parser')\n",
    "    tmp = tmp.select_one(\"#transcr_output\").text\n",
    "    tmp = tmp.replace('ˈ', '')\n",
    "    return tmp"
   ]
  },
  {
   "cell_type": "code",
   "execution_count": 27,
   "metadata": {},
   "outputs": [
    {
     "name": "stderr",
     "output_type": "stream",
     "text": [
      "/usr/local/var/pyenv/versions/3.6.4/lib/python3.6/site-packages/ipykernel_launcher.py:3: SettingWithCopyWarning: \n",
      "A value is trying to be set on a copy of a slice from a DataFrame\n",
      "\n",
      "See the caveats in the documentation: http://pandas.pydata.org/pandas-docs/stable/indexing.html#indexing-view-versus-copy\n",
      "  This is separate from the ipykernel package so we can avoid doing imports until\n"
     ]
    }
   ],
   "source": [
    "for en in range(930,len(data2['english'])):\n",
    "    tmp = post_en_ipa(data2['english'][en], socks_proxy)\n",
    "    data2['english_ipa'][en] = tmp\n",
    "    if(tmp == ''):\n",
    "        print(en)\n",
    "        break"
   ]
  },
  {
   "cell_type": "code",
   "execution_count": 41,
   "metadata": {},
   "outputs": [],
   "source": [
    "data3 = data2"
   ]
  },
  {
   "cell_type": "code",
   "execution_count": 42,
   "metadata": {},
   "outputs": [],
   "source": [
    "drop = []\n",
    "for en in range(len(data2['english'])):\n",
    "    if(data2['english_ipa'][en].find('-') != -1):\n",
    "        drop.append(en)"
   ]
  },
  {
   "cell_type": "code",
   "execution_count": 44,
   "metadata": {},
   "outputs": [
    {
     "data": {
      "text/plain": [
       "225"
      ]
     },
     "execution_count": 44,
     "metadata": {},
     "output_type": "execute_result"
    }
   ],
   "source": [
    "len(drop)"
   ]
  },
  {
   "cell_type": "code",
   "execution_count": 46,
   "metadata": {},
   "outputs": [],
   "source": [
    "data3 = data3.drop(drop)"
   ]
  },
  {
   "cell_type": "code",
   "execution_count": 65,
   "metadata": {},
   "outputs": [],
   "source": [
    "data3.to_csv('data_preprocessed_by_hand_add_ipa_dropped.csv')"
   ]
  },
  {
   "cell_type": "code",
   "execution_count": 101,
   "metadata": {},
   "outputs": [],
   "source": [
    "data3 = pd.read_csv('data_preprocessed_by_hand_add_ipa_dropped.csv')"
   ]
  },
  {
   "cell_type": "code",
   "execution_count": 102,
   "metadata": {
    "scrolled": false
   },
   "outputs": [],
   "source": [
    "data3 = data3.reset_index()"
   ]
  },
  {
   "cell_type": "code",
   "execution_count": 104,
   "metadata": {},
   "outputs": [
    {
     "data": {
      "text/plain": [
       "(776, 8)"
      ]
     },
     "execution_count": 104,
     "metadata": {},
     "output_type": "execute_result"
    }
   ],
   "source": [
    "data3.shape"
   ]
  },
  {
   "cell_type": "markdown",
   "metadata": {},
   "source": [
    "## IPAを格納"
   ]
  },
  {
   "cell_type": "code",
   "execution_count": 113,
   "metadata": {},
   "outputs": [],
   "source": [
    "ipa_e = ['iː', 'ɑː', 'ɔː', 'uː', 'ɜ:', 'eɪ', 'aɪ', 'ɔi', 'aʊ', 'əʊ', 'ɪə', 'eə', 'ʊə', 'tʃ', 'dʒ', 'ə', 'ɪ', 'e', 'æ', 'ɒ', 'ʌ', 'ʊ', 'p', 'b', 't', 'd', 'k', 'g', 'f', 'v', 'θ', 'ð', 's', 'z', 'ʃ', 'ʒ', 'h', 'm', 'n', 'ŋ', 'l', 'r', 'j', 'w']\n"
   ]
  },
  {
   "cell_type": "code",
   "execution_count": 115,
   "metadata": {},
   "outputs": [
    {
     "data": {
      "text/plain": [
       "44"
      ]
     },
     "execution_count": 115,
     "metadata": {},
     "output_type": "execute_result"
    }
   ],
   "source": [
    "len(ipa_e)"
   ]
  },
  {
   "cell_type": "code",
   "execution_count": 116,
   "metadata": {},
   "outputs": [],
   "source": [
    "ipa_j = ['a', 'i', 'ɯ', 'e', 'o', 'k', 'g', 'ŋ', 's', 'ʃ', 'ʒ', 'z', 't', 'd', 'n', 'ɲ', 'h', 'ç', 'ɸ', 'b', 'p', 'm', 'j', 'r', 'w', 'ɴ', 'ː']\n"
   ]
  },
  {
   "cell_type": "code",
   "execution_count": 117,
   "metadata": {},
   "outputs": [
    {
     "data": {
      "text/plain": [
       "27"
      ]
     },
     "execution_count": 117,
     "metadata": {},
     "output_type": "execute_result"
    }
   ],
   "source": [
    "len(ipa_j)"
   ]
  },
  {
   "cell_type": "code",
   "execution_count": 107,
   "metadata": {},
   "outputs": [],
   "source": [
    "dict_jap = {'ぎゃ':'gja', 'ぎゅ':'gjɯ', 'ぎょ': 'gjo', 'じゃ': 'dʒa', 'じゅ': 'dʒɯ','じょ':'dʒo', 'びゃ': 'bja', 'びゅ':'bjɯ' ,'びょ': 'bjo', 'ぴゃ': 'pja', 'ぴゅ': 'pjɯ', 'ぴょ':'pjo', 'きゃ':'kja', 'きゅ':'kjɯ', 'きょ':'kjo', 'しゃ':'ʃa', 'しゅ':'ʃɯ', 'しょ':'ʃo', 'ちゃ':'tʃa', 'ちゅ':'tʃɯ', 'ちょ':'tʃo', 'にゃ':'ɲa', 'にゅ':'ɲɯ', 'にょ':'ɲo', 'ひゃ':'çja', 'ひゅ':'çjɯ', 'ひょ':'çjo', 'みゃ': 'mja', 'みゅ': 'mjɯ', 'みょ':'mjo', 'りゃ':'rja', 'りゅ': 'rjɯ', 'りょ':'rjo', 'が':'ga', 'ぎ':'gi', 'ぐ':'gɯ', 'げ':'ge', 'ご':'go', 'ざ':'dza', 'じ':'dʒi', 'ず':'dzɯ', 'ぜ':'dze', 'ぞ':'dzo', 'だ':'da', 'で':'de', 'ど':'do', 'ば':'ba', 'び':'bi', 'ぶ':'bɯ', 'べ':'be', 'ぼ':'bo', 'ぱ':'pa', 'ぴ':'pi', 'ぷ':'pɯ', 'ぺ':'pe', 'ぽ':'po', 'あ':'a', 'い':'i', 'う':'ɯ', 'え':'e', 'お':'o', 'か':'ka', 'き':'ki', 'く':'kɯ', 'け':'ke', 'こ':'ko', 'さ':'sa', 'し':'ʃi', 'す':'sɯ', 'せ':'se', 'そ':'so', 'た':'ta', 'ち':'tʃi', 'つ':'tsɯ', 'て':'te','と':'to', 'な':'na', 'に':'ɲi', 'ぬ':'nɯ', 'ね':'ne', 'の':'no', 'は':'ha', 'ひ':'çi', 'ふ':'ɸɯ', 'へ':'he', 'ほ':'ho', 'ま':'ma', 'み':'mi', 'む':'mɯ', 'め':'me', 'も':'mo', 'や':'ja', 'ゆ':'jɯ', 'よ':'jo', 'ら':'ra', 'り':'ri', 'る':'rɯ', 'れ':'re', 'ろ':'ro', 'わ':'wa', 'を':'o', 'ん':'ɴ', 'ー':'ː'}"
   ]
  },
  {
   "cell_type": "markdown",
   "metadata": {},
   "source": [
    "### IPAデータ"
   ]
  },
  {
   "cell_type": "code",
   "execution_count": 108,
   "metadata": {},
   "outputs": [],
   "source": [
    "N = len(data3['english'])"
   ]
  },
  {
   "cell_type": "code",
   "execution_count": 109,
   "metadata": {},
   "outputs": [],
   "source": [
    "data_ipa = np.zeros((len(ipa_e) + len(ipa_j), N))\n",
    "data_ipa = pd.DataFrame(data_ipa, index=ipa_e+ipa_j)"
   ]
  },
  {
   "cell_type": "code",
   "execution_count": 110,
   "metadata": {
    "scrolled": true
   },
   "outputs": [],
   "source": [
    "for en in range(len(data3['english'])):\n",
    "    tmp = data3['english_ipa'][en]\n",
    "    for i in range(len(ipa_e)):\n",
    "        if tmp.count(ipa_e[i]) != 0:\n",
    "            data_ipa[en][i] = tmp.count(ipa_e[i])\n",
    "            tmp = tmp.replace(ipa_e[i], '')\n",
    "        else:\n",
    "            data_ipa[en][i] = 0"
   ]
  },
  {
   "cell_type": "markdown",
   "metadata": {},
   "source": [
    "#### Japanese"
   ]
  },
  {
   "cell_type": "code",
   "execution_count": 111,
   "metadata": {},
   "outputs": [],
   "source": [
    "for ja in range(len(data3['japanese'])):\n",
    "    n = 0\n",
    "    tmp = data3['japanese'][ja]\n",
    "    for i in list(dict_jap.keys()):\n",
    "        if tmp.find(i) != -1:\n",
    "            for w in dict_jap[i]:\n",
    "                data_ipa[ja][len(ipa_e) + ipa_j.index(w)] = data_ipa[ja][len(ipa_e) + ipa_j.index(w)] + tmp.count(i)\n",
    "            tmp = tmp.replace(i, '')\n",
    "        n = n + 1"
   ]
  },
  {
   "cell_type": "code",
   "execution_count": 112,
   "metadata": {
    "scrolled": false
   },
   "outputs": [],
   "source": [
    "data_ipa.to_csv('ipa_matrix.csv')"
   ]
  }
 ],
 "metadata": {
  "kernelspec": {
   "display_name": "Python 3",
   "language": "python",
   "name": "python3"
  },
  "language_info": {
   "codemirror_mode": {
    "name": "ipython",
    "version": 3
   },
   "file_extension": ".py",
   "mimetype": "text/x-python",
   "name": "python",
   "nbconvert_exporter": "python",
   "pygments_lexer": "ipython3",
   "version": "3.6.4"
  }
 },
 "nbformat": 4,
 "nbformat_minor": 2
}
